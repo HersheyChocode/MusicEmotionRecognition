{
  "cells": [
    {
      "cell_type": "code",
      "execution_count": null,
      "metadata": {
        "id": "fbOFbWdfR9pX"
      },
      "outputs": [],
      "source": [
        "import pandas as pd\n",
        "import numpy as np\n",
        "import matplotlib.pyplot as plt\n",
        "import seaborn as sns\n",
        "from sklearn.decomposition import PCA\n",
        "from scipy import stats"
      ]
    },
    {
      "cell_type": "code",
      "execution_count": null,
      "metadata": {
        "colab": {
          "base_uri": "https://localhost:8080/"
        },
        "id": "FSkXa94ZsGTG",
        "outputId": "6ebbbb7e-ca4c-4ddd-e3af-723cc99adc89"
      },
      "outputs": [
        {
          "output_type": "stream",
          "name": "stdout",
          "text": [
            "Mounted at /content/drive\n"
          ]
        }
      ],
      "source": [
        "from google.colab import drive\n",
        "drive.mount('/content/drive')"
      ]
    },
    {
      "cell_type": "markdown",
      "source": [
        "creating dataframe"
      ],
      "metadata": {
        "id": "nf_iDfwj3p5W"
      }
    },
    {
      "cell_type": "code",
      "execution_count": null,
      "metadata": {
        "id": "gXgyroBVSfUj"
      },
      "outputs": [],
      "source": [
        "df = pd.read_csv('/content/drive/MyDrive/completeData.csv').astype({'valence_tags': np.float32, 'arousal_tags':np.float32, 'dominance_tags':np.float32})"
      ]
    },
    {
      "cell_type": "code",
      "execution_count": null,
      "metadata": {
        "id": "JlnDTN5ySguH"
      },
      "outputs": [],
      "source": [
        "from ast import literal_eval\n",
        "for x in range(len(df['seeds'])):\n",
        "  df['seeds'][x] = literal_eval(df['seeds'][x])"
      ]
    },
    {
      "cell_type": "markdown",
      "source": [
        "finding number of unique seeds"
      ],
      "metadata": {
        "id": "Eus0HXZZ3z5w"
      }
    },
    {
      "cell_type": "code",
      "execution_count": null,
      "metadata": {
        "colab": {
          "base_uri": "https://localhost:8080/"
        },
        "id": "oXWL9in5GxtM",
        "outputId": "bc173bb4-bd2d-4e13-a069-a3cd5fa0cdcc"
      },
      "outputs": [
        {
          "output_type": "stream",
          "name": "stdout",
          "text": [
            "272\n"
          ]
        }
      ],
      "source": [
        "uniqueSeeds = []\n",
        "for y in df['seeds']:\n",
        "  for x in y:\n",
        "    if x not in uniqueSeeds:\n",
        "      uniqueSeeds.append(x)\n",
        "uniqueSeeds.sort()\n",
        "print(len(uniqueSeeds))"
      ]
    },
    {
      "cell_type": "markdown",
      "source": [
        "dropping unnecessary columns"
      ],
      "metadata": {
        "id": "VRNBRYVZ38dy"
      }
    },
    {
      "cell_type": "code",
      "execution_count": null,
      "metadata": {
        "id": "e3o89YqHSj_g"
      },
      "outputs": [],
      "source": [
        "df2 = df.drop(columns=['lastfm_url', 'track', 'artist','mbid','spotify_id','genre','type','id','uri','track_href','analysis_url'])\n",
        "df2 = df2.astype({'valence_tags': np.float64, 'arousal_tags':np.float64, 'dominance_tags':np.float64, 'danceability':np.float64, 'energy':np.float64, 'speechiness':np.float64, 'acousticness':np.float64, 'instrumentalness':np.float64, 'liveness':np.float64})"
      ]
    },
    {
      "cell_type": "markdown",
      "source": [
        "creating mood variable + replace seeds w/mood column in dataframe"
      ],
      "metadata": {
        "id": "R7eJv0kn4DzL"
      }
    },
    {
      "cell_type": "code",
      "execution_count": null,
      "metadata": {
        "id": "2z1l89W0SlzH"
      },
      "outputs": [],
      "source": [
        "mood = 'calm'"
      ]
    },
    {
      "cell_type": "markdown",
      "metadata": {
        "id": "2EzY26Qrf3OF"
      },
      "source": [
        "IF THE MOOD IS PRESENT IN THE SONG, THEN 1.\n",
        "IF THE SONG DOES NOT ELICIT THE MOOD, THEN 0."
      ]
    },
    {
      "cell_type": "code",
      "execution_count": null,
      "metadata": {
        "id": "z6uIibGfSoOs"
      },
      "outputs": [],
      "source": [
        "moods = []\n",
        "for i in range(len(df2)):\n",
        "  if(mood in df2['seeds'][i]):\n",
        "    moods.append(1)\n",
        "  else:\n",
        "    moods.append(0)\n",
        "df2['mood'] = moods\n",
        "df2 = df2.drop(columns=['seeds'])"
      ]
    },
    {
      "cell_type": "markdown",
      "source": [
        "separate data into X and y - X is a dataframe w equal number of songs w/the mood and songs w/out the mood, y = the mood columns (0s and 1s)"
      ],
      "metadata": {
        "id": "So4ob5mN4jcN"
      }
    },
    {
      "cell_type": "code",
      "execution_count": null,
      "metadata": {
        "id": "L7qbWgBuSsYB"
      },
      "outputs": [],
      "source": [
        "sampleNum=(df2['mood'].value_counts()[1])\n",
        "X = pd.concat([df2[df2.mood == 0].sample(sampleNum), df2[df2.mood == 1].sample(sampleNum)])\n",
        "y = X['mood']\n",
        "X = X.drop(columns=['mood','Unnamed: 0','number_of_emotion_tags', 'valence_tags', 'arousal_tags', 'dominance_tags'])"
      ]
    },
    {
      "cell_type": "markdown",
      "source": [
        "creating x/y train/test data"
      ],
      "metadata": {
        "id": "ExLpdrc347LX"
      }
    },
    {
      "cell_type": "code",
      "execution_count": null,
      "metadata": {
        "id": "g75WoJ_vTArW"
      },
      "outputs": [],
      "source": [
        "from sklearn.metrics import accuracy_score\n",
        "from sklearn.model_selection import train_test_split\n",
        "from sklearn.preprocessing import StandardScaler\n",
        "\n",
        "\n",
        "X_train, X_test, y_train, y_test = train_test_split(X, y, test_size=0.2)\n",
        "scaler = StandardScaler()\n",
        "scaler.fit(X_train)\n",
        "X_train = scaler.transform(X_train)\n",
        "X_test = scaler.transform(X_test)"
      ]
    },
    {
      "cell_type": "markdown",
      "source": [
        "creating logistic model/fit"
      ],
      "metadata": {
        "id": "xv4id04hJTJU"
      }
    },
    {
      "cell_type": "code",
      "source": [
        "from sklearn.linear_model import LogisticRegression\n",
        "\n",
        "logistic_model = LogisticRegression()\n",
        "logistic_model.fit(X_train, y_train)\n",
        "predictions = logistic_model.predict(X_test)"
      ],
      "metadata": {
        "id": "FZPq8KhAJDJK"
      },
      "execution_count": null,
      "outputs": []
    },
    {
      "cell_type": "markdown",
      "source": [
        "logistic regression accuracy/precision:"
      ],
      "metadata": {
        "id": "uNULqN49JSa8"
      }
    },
    {
      "cell_type": "code",
      "source": [
        "score = accuracy_score(y_test, predictions)\n",
        "print('Logistic Regression Model Accuracy: {:.2%}'.format(score))"
      ],
      "metadata": {
        "colab": {
          "base_uri": "https://localhost:8080/"
        },
        "id": "svkvKkDcJJ4s",
        "outputId": "308477d0-7222-46cc-8d2f-c2cb18f56cee"
      },
      "execution_count": null,
      "outputs": [
        {
          "output_type": "stream",
          "name": "stdout",
          "text": [
            "Logistic Regression Model Accuracy: 71.82%\n"
          ]
        }
      ]
    },
    {
      "cell_type": "code",
      "source": [
        "from sklearn.metrics import precision_score\n",
        "score2 = precision_score(y_test, predictions)\n",
        "print('Logistic Regression Model Precision: {:.2%}'.format(score2))"
      ],
      "metadata": {
        "id": "XPIue7WcJK8L"
      },
      "execution_count": null,
      "outputs": []
    },
    {
      "cell_type": "markdown",
      "source": [
        "# KNN"
      ],
      "metadata": {
        "id": "gMWjG8sTnNWF"
      }
    },
    {
      "cell_type": "markdown",
      "source": [
        "create KNN classifier fit to Xtrain, YTrain"
      ],
      "metadata": {
        "id": "o3ZyZJUs5D4R"
      }
    },
    {
      "cell_type": "code",
      "execution_count": null,
      "metadata": {
        "colab": {
          "base_uri": "https://localhost:8080/",
          "height": 75
        },
        "id": "K64tiMwyTG-y",
        "outputId": "668062d1-0ca0-4522-b993-70492875db23"
      },
      "outputs": [
        {
          "output_type": "execute_result",
          "data": {
            "text/plain": [
              "KNeighborsClassifier()"
            ],
            "text/html": [
              "<style>#sk-container-id-1 {color: black;background-color: white;}#sk-container-id-1 pre{padding: 0;}#sk-container-id-1 div.sk-toggleable {background-color: white;}#sk-container-id-1 label.sk-toggleable__label {cursor: pointer;display: block;width: 100%;margin-bottom: 0;padding: 0.3em;box-sizing: border-box;text-align: center;}#sk-container-id-1 label.sk-toggleable__label-arrow:before {content: \"▸\";float: left;margin-right: 0.25em;color: #696969;}#sk-container-id-1 label.sk-toggleable__label-arrow:hover:before {color: black;}#sk-container-id-1 div.sk-estimator:hover label.sk-toggleable__label-arrow:before {color: black;}#sk-container-id-1 div.sk-toggleable__content {max-height: 0;max-width: 0;overflow: hidden;text-align: left;background-color: #f0f8ff;}#sk-container-id-1 div.sk-toggleable__content pre {margin: 0.2em;color: black;border-radius: 0.25em;background-color: #f0f8ff;}#sk-container-id-1 input.sk-toggleable__control:checked~div.sk-toggleable__content {max-height: 200px;max-width: 100%;overflow: auto;}#sk-container-id-1 input.sk-toggleable__control:checked~label.sk-toggleable__label-arrow:before {content: \"▾\";}#sk-container-id-1 div.sk-estimator input.sk-toggleable__control:checked~label.sk-toggleable__label {background-color: #d4ebff;}#sk-container-id-1 div.sk-label input.sk-toggleable__control:checked~label.sk-toggleable__label {background-color: #d4ebff;}#sk-container-id-1 input.sk-hidden--visually {border: 0;clip: rect(1px 1px 1px 1px);clip: rect(1px, 1px, 1px, 1px);height: 1px;margin: -1px;overflow: hidden;padding: 0;position: absolute;width: 1px;}#sk-container-id-1 div.sk-estimator {font-family: monospace;background-color: #f0f8ff;border: 1px dotted black;border-radius: 0.25em;box-sizing: border-box;margin-bottom: 0.5em;}#sk-container-id-1 div.sk-estimator:hover {background-color: #d4ebff;}#sk-container-id-1 div.sk-parallel-item::after {content: \"\";width: 100%;border-bottom: 1px solid gray;flex-grow: 1;}#sk-container-id-1 div.sk-label:hover label.sk-toggleable__label {background-color: #d4ebff;}#sk-container-id-1 div.sk-serial::before {content: \"\";position: absolute;border-left: 1px solid gray;box-sizing: border-box;top: 0;bottom: 0;left: 50%;z-index: 0;}#sk-container-id-1 div.sk-serial {display: flex;flex-direction: column;align-items: center;background-color: white;padding-right: 0.2em;padding-left: 0.2em;position: relative;}#sk-container-id-1 div.sk-item {position: relative;z-index: 1;}#sk-container-id-1 div.sk-parallel {display: flex;align-items: stretch;justify-content: center;background-color: white;position: relative;}#sk-container-id-1 div.sk-item::before, #sk-container-id-1 div.sk-parallel-item::before {content: \"\";position: absolute;border-left: 1px solid gray;box-sizing: border-box;top: 0;bottom: 0;left: 50%;z-index: -1;}#sk-container-id-1 div.sk-parallel-item {display: flex;flex-direction: column;z-index: 1;position: relative;background-color: white;}#sk-container-id-1 div.sk-parallel-item:first-child::after {align-self: flex-end;width: 50%;}#sk-container-id-1 div.sk-parallel-item:last-child::after {align-self: flex-start;width: 50%;}#sk-container-id-1 div.sk-parallel-item:only-child::after {width: 0;}#sk-container-id-1 div.sk-dashed-wrapped {border: 1px dashed gray;margin: 0 0.4em 0.5em 0.4em;box-sizing: border-box;padding-bottom: 0.4em;background-color: white;}#sk-container-id-1 div.sk-label label {font-family: monospace;font-weight: bold;display: inline-block;line-height: 1.2em;}#sk-container-id-1 div.sk-label-container {text-align: center;}#sk-container-id-1 div.sk-container {/* jupyter's `normalize.less` sets `[hidden] { display: none; }` but bootstrap.min.css set `[hidden] { display: none !important; }` so we also need the `!important` here to be able to override the default hidden behavior on the sphinx rendered scikit-learn.org. See: https://github.com/scikit-learn/scikit-learn/issues/21755 */display: inline-block !important;position: relative;}#sk-container-id-1 div.sk-text-repr-fallback {display: none;}</style><div id=\"sk-container-id-1\" class=\"sk-top-container\"><div class=\"sk-text-repr-fallback\"><pre>KNeighborsClassifier()</pre><b>In a Jupyter environment, please rerun this cell to show the HTML representation or trust the notebook. <br />On GitHub, the HTML representation is unable to render, please try loading this page with nbviewer.org.</b></div><div class=\"sk-container\" hidden><div class=\"sk-item\"><div class=\"sk-estimator sk-toggleable\"><input class=\"sk-toggleable__control sk-hidden--visually\" id=\"sk-estimator-id-1\" type=\"checkbox\" checked><label for=\"sk-estimator-id-1\" class=\"sk-toggleable__label sk-toggleable__label-arrow\">KNeighborsClassifier</label><div class=\"sk-toggleable__content\"><pre>KNeighborsClassifier()</pre></div></div></div></div></div>"
            ]
          },
          "metadata": {},
          "execution_count": 16
        }
      ],
      "source": [
        "from sklearn.neighbors import KNeighborsClassifier\n",
        "\n",
        "classifier = KNeighborsClassifier()\n",
        "classifier.fit(X_train, y_train)"
      ]
    },
    {
      "cell_type": "markdown",
      "metadata": {
        "id": "gYrzFllMj2H_"
      },
      "source": [
        "checking precision and accuracy, but ultimately precision will be compared"
      ]
    },
    {
      "cell_type": "code",
      "execution_count": null,
      "metadata": {
        "id": "V9m1liO_TfvR"
      },
      "outputs": [],
      "source": [
        "from sklearn.metrics import accuracy_score, precision_score, recall_score, confusion_matrix, f1_score\n",
        "\n",
        "precisions = []\n",
        "\n",
        "# Calculating f1 score for K values between 1 and 40\n",
        "for i in range(1, 300):\n",
        "    knn = KNeighborsClassifier(n_neighbors=i)\n",
        "    knn.fit(X_train, y_train)\n",
        "    pred_i = knn.predict(X_test)\n",
        "    precisions.append(precision_score(y_test, pred_i))"
      ]
    },
    {
      "cell_type": "code",
      "execution_count": null,
      "metadata": {
        "colab": {
          "base_uri": "https://localhost:8080/",
          "height": 582
        },
        "id": "RZK5L1fETh-h",
        "outputId": "1b6fd1a7-412b-4652-fe4d-88c0ae36d35d"
      },
      "outputs": [
        {
          "output_type": "execute_result",
          "data": {
            "text/plain": [
              "Text(0, 0.5, 'Precision Score')"
            ]
          },
          "metadata": {},
          "execution_count": 18
        },
        {
          "output_type": "display_data",
          "data": {
            "text/plain": [
              "<Figure size 1200x600 with 1 Axes>"
            ],
            "image/png": "[encoded data removed]"
          },
          "metadata": {}
        }
      ],
      "source": [
        "plt.figure(figsize=(12, 6))\n",
        "plt.plot(range(1, 300), precisions, color='red', linestyle='dashed', marker='o',\n",
        "         markerfacecolor='blue', markersize=10)\n",
        "plt.title('Precision Score K Value')\n",
        "plt.xlabel('K Value')\n",
        "plt.ylabel('Precision Score')"
      ]
    },
    {
      "cell_type": "code",
      "execution_count": null,
      "metadata": {
        "colab": {
          "base_uri": "https://localhost:8080/",
          "height": 582
        },
        "id": "boQY5z_ywQ7u",
        "outputId": "89af1caf-c483-419f-902b-9f4bfd93967b"
      },
      "outputs": [
        {
          "output_type": "execute_result",
          "data": {
            "text/plain": [
              "Text(0, 0.5, 'Accuracy Score')"
            ]
          },
          "metadata": {},
          "execution_count": 19
        },
        {
          "output_type": "display_data",
          "data": {
            "text/plain": [
              "<Figure size 1200x600 with 1 Axes>"
            ],
            "image/png": "[encoded data removed]"
          },
          "metadata": {}
        }
      ],
      "source": [
        "from sklearn.metrics import accuracy_score, precision_score, recall_score, confusion_matrix, f1_score\n",
        "\n",
        "accuracies = []\n",
        "\n",
        "# Calculating f1 score for K values between 1 and 40\n",
        "for i in range(1, 300):\n",
        "    knn = KNeighborsClassifier(n_neighbors=i)\n",
        "    knn.fit(X_train, y_train)\n",
        "    pred_i = knn.predict(X_test)\n",
        "    # using average='weighted' to calculate a weighted average for the 4 classes\n",
        "    accuracies.append(accuracy_score(y_test, pred_i))\n",
        "\n",
        "plt.figure(figsize=(12, 6))\n",
        "plt.plot(range(1, 300), accuracies, color='red', linestyle='dashed', marker='o',\n",
        "         markerfacecolor='blue', markersize=10)\n",
        "plt.title('Accuracy Score K Value')\n",
        "plt.xlabel('K Value')\n",
        "plt.ylabel('Accuracy Score')"
      ]
    },
    {
      "cell_type": "code",
      "execution_count": null,
      "metadata": {
        "colab": {
          "base_uri": "https://localhost:8080/"
        },
        "id": "jzOtLIOKTjqW",
        "outputId": "95bf9d53-9797-4737-c9f8-fb9064f3942b"
      },
      "outputs": [
        {
          "output_type": "stream",
          "name": "stdout",
          "text": [
            "max accuracies 0.7208672086720868 117\n",
            "max precisions 0.7077922077922078 6\n",
            "0.6585365853658537\n"
          ]
        }
      ],
      "source": [
        "maxAccuracy = 0\n",
        "maxInd2 = 0\n",
        "for x in range(len(accuracies)):\n",
        "  if(accuracies[x]>maxAccuracy):\n",
        "    maxAccuracy = accuracies[x]\n",
        "    maxInd2 = x+1\n",
        "print(\"max accuracies\", maxAccuracy, maxInd2)\n",
        "\n",
        "maxPrecision = 0\n",
        "maxInd = 0\n",
        "for x in range(len(precisions)):\n",
        "  if(precisions[x]>maxPrecision):\n",
        "    maxPrecision = precisions[x]\n",
        "    maxInd = x+1\n",
        "print(\"max precisions\", maxPrecision, maxInd)\n",
        "print(accuracies[maxInd])"
      ]
    },
    {
      "cell_type": "markdown",
      "source": [
        "create a classifier for the \"k\" that had the best precision"
      ],
      "metadata": {
        "id": "lLXbX1F55dQa"
      }
    },
    {
      "cell_type": "code",
      "execution_count": null,
      "metadata": {
        "colab": {
          "base_uri": "https://localhost:8080/"
        },
        "id": "9x9bMLifdxmX",
        "outputId": "867c024c-ad15-4bed-e746-4c7735005f58"
      },
      "outputs": [
        {
          "output_type": "stream",
          "name": "stdout",
          "text": [
            "              precision    recall  f1-score   support\n",
            "\n",
            "           0       0.61      0.75      0.67       177\n",
            "           1       0.71      0.57      0.63       192\n",
            "\n",
            "    accuracy                           0.65       369\n",
            "   macro avg       0.66      0.66      0.65       369\n",
            "weighted avg       0.66      0.65      0.65       369\n",
            "\n"
          ]
        }
      ],
      "source": [
        "from sklearn.metrics import classification_report\n",
        "\n",
        "classifierBest = KNeighborsClassifier(n_neighbors=maxInd)\n",
        "classifierBest.fit(X_train, y_train)\n",
        "y_predBest = classifierBest.predict(X_test)\n",
        "print(classification_report(y_test, y_predBest))"
      ]
    },
    {
      "cell_type": "markdown",
      "source": [
        "accuracies and precision:"
      ],
      "metadata": {
        "id": "LmSN6zPJ8_u5"
      }
    },
    {
      "cell_type": "code",
      "execution_count": null,
      "metadata": {
        "colab": {
          "base_uri": "https://localhost:8080/"
        },
        "id": "mbgRXFxSeRTu",
        "outputId": "a3873f3c-9823-4b68-f4ae-13b1aef84fc7"
      },
      "outputs": [
        {
          "output_type": "stream",
          "name": "stdout",
          "text": [
            "[[132  45]\n",
            " [ 83 109]]\n",
            "accuracy:  65.31165311653116\n",
            "precision:  70.77922077922078\n"
          ]
        }
      ],
      "source": [
        "print(confusion_matrix(y_test, y_predBest))\n",
        "print(\"accuracy: \", 100*accuracy_score(y_test,y_predBest))\n",
        "print(\"precision: \", 100*precision_score(y_test,y_predBest))"
      ]
    },
    {
      "cell_type": "code",
      "execution_count": null,
      "metadata": {
        "id": "wLmN4vk4mKUs"
      },
      "outputs": [],
      "source": [
        "from sklearn.metrics import accuracy_score, precision_score, recall_score\n",
        "from sklearn.metrics import classification_report, confusion_matrix\n",
        "import seaborn as sns\n",
        "\n",
        "# Adding classes names for better interpretation\n",
        "classes_names = ['0 \\n(mood not present)','1 \\n(mood present)']\n",
        "cm = pd.DataFrame(confusion_matrix(y_test, y_predBest),\n",
        "                  columns=classes_names, index = classes_names)\n",
        "\n",
        "# Seaborn's heatmap to better visualize the confusion matrix\n",
        "sns.heatmap(cm, annot=True, fmt='d');\n",
        "\n",
        "print(classification_report(y_test, y_predBest))"
      ]
    },
    {
      "cell_type": "code",
      "execution_count": null,
      "metadata": {
        "id": "AjUXordGiE1B"
      },
      "outputs": [],
      "source": [
        "from sklearn import metrics\n",
        "metrics.plot_roc_curve(classifierBest, X_test, y_test)"
      ]
    },
    {
      "cell_type": "code",
      "execution_count": null,
      "metadata": {
        "id": "D-NC6mo2iRY6"
      },
      "outputs": [],
      "source": [
        "from sklearn.metrics import roc_auc_score\n",
        "roc_auc_score(y_test,classifierBest.predict_proba(X_test)[:, 1])"
      ]
    },
    {
      "cell_type": "markdown",
      "metadata": {
        "id": "1mR6jlAtWQtn"
      },
      "source": [
        "**BEFORE SVN: REVIEW WHY WE DID PRECISION OVER ACCURACY; THE GRAPHS LOOK THE SAME??**\n",
        "precision - just true positives; accuracy - true positives and false negatives"
      ]
    },
    {
      "cell_type": "markdown",
      "metadata": {
        "id": "wCF4UmLVYoqk"
      },
      "source": [
        "# SVM:\n",
        "https://www.geeksforgeeks.org/support-vector-machine-algorithm/\n",
        "https://colab.research.google.com/github/jakevdp/PythonDataScienceHandbook/blob/master/notebooks/05.07-Support-Vector-Machines.ipynb#scrollTo=V0EuZlh-bVRT"
      ]
    },
    {
      "cell_type": "markdown",
      "source": [
        "new x/y test/train data\n",
        "\n",
        "creates a svc model and fits it to the new x/y train data"
      ],
      "metadata": {
        "id": "mkFbk7yr6weM"
      }
    },
    {
      "cell_type": "code",
      "execution_count": null,
      "metadata": {
        "id": "XfGjrnlKXoa0"
      },
      "outputs": [],
      "source": [
        "from sklearn.svm import SVC\n",
        "\n",
        "X_train2, X_test2, y_train2, y_test2 = train_test_split(X, y, test_size=0.2)\n",
        "\n",
        "svc_model = SVC(C= .1, kernel='linear', gamma= 1)\n",
        "svc_model.fit(X_train2, y_train2)\n",
        "\n",
        "prediction = svc_model .predict(X_test2)\n",
        "# check the accuracy on the training set\n",
        "print(svc_model.score(X_train2, y_train2))\n",
        "print(svc_model.score(X_test2, y_test2))"
      ]
    },
    {
      "cell_type": "code",
      "execution_count": null,
      "metadata": {
        "id": "qSr9sgs5bhG7"
      },
      "outputs": [],
      "source": [
        "svc_model = SVC(kernel='rbf')\n",
        "svc_model.fit(X_train2, y_train2)\n",
        "\n",
        "prediction = svc_model .predict(X_test2)\n",
        "# check the accuracy on the training set\n",
        "print(svc_model.score(X_train2, y_train2))\n",
        "print(svc_model.score(X_test2, y_test2))"
      ]
    },
    {
      "cell_type": "markdown",
      "source": [
        "tuning hyperparameters"
      ],
      "metadata": {
        "id": "hbzMuJ-Q7Dhz"
      }
    },
    {
      "cell_type": "code",
      "execution_count": null,
      "metadata": {
        "id": "LJ3CRMzHbh94"
      },
      "outputs": [],
      "source": [
        "from sklearn.model_selection import GridSearchCV\n",
        "param_grid = {'C': [0.001,0.01,0.1,1,5,10],\n",
        "              'gamma': [0.0001, 0.0005, 0.001, 0.005]}\n",
        "grid = GridSearchCV(svc_model, param_grid, scoring=\"precision\")\n",
        "\n",
        "grid.fit(X_train2, y_train2)\n",
        "print(grid.best_params_)"
      ]
    },
    {
      "cell_type": "code",
      "execution_count": null,
      "metadata": {
        "id": "V6R4Z-KTcSkP"
      },
      "outputs": [],
      "source": [
        "svc_model = grid.best_estimator_\n",
        "svc_model.fit(X_train2, y_train2)\n",
        "\n",
        "prediction = svc_model.predict(X_test2)\n",
        "# check the accuracy on the training set\n",
        "print(svc_model.score(X_train2, y_train2))\n",
        "print(svc_model.score(X_test2, y_test2))"
      ]
    },
    {
      "cell_type": "code",
      "execution_count": null,
      "metadata": {
        "id": "uthP-ngleWoG"
      },
      "outputs": [],
      "source": [
        "classes_names = ['0 \\n(mood not present)','1 \\n(mood present)']\n",
        "\n",
        "cm = pd.DataFrame(confusion_matrix(y_test2, prediction),\n",
        "                  columns=classes_names, index = classes_names)\n",
        "\n",
        "# Seaborn's heatmap to better visualize the confusion matrix\n",
        "sns.heatmap(cm, annot=True, fmt='d');\n",
        "\n",
        "print(classification_report(y_test2, prediction))"
      ]
    },
    {
      "cell_type": "markdown",
      "source": [
        "precision and accuracy:"
      ],
      "metadata": {
        "id": "D4wBFH4f8Bv9"
      }
    },
    {
      "cell_type": "code",
      "execution_count": null,
      "metadata": {
        "id": "0hLniQRxJw18"
      },
      "outputs": [],
      "source": [
        "print(precision_score(y_test2,prediction))\n",
        "print(accuracy_score(y_test2,prediction))"
      ]
    },
    {
      "cell_type": "markdown",
      "metadata": {
        "id": "CTLlrPpgi0D8"
      },
      "source": [
        "# Naive Bayes (https://www.geeksforgeeks.org/naive-bayes-classifiers/)"
      ]
    },
    {
      "cell_type": "markdown",
      "source": [
        "training gaussian naive bayes"
      ],
      "metadata": {
        "id": "WHbrtuu38IZ3"
      }
    },
    {
      "cell_type": "code",
      "execution_count": null,
      "metadata": {
        "id": "s4hB7SSui11w"
      },
      "outputs": [],
      "source": [
        "from sklearn.model_selection import train_test_split\n",
        "X_train3, X_test3, y_train3, y_test3 = train_test_split(X, y, test_size=0.4, random_state=1)\n",
        "\n",
        "# training the model on training set\n",
        "from sklearn.naive_bayes import GaussianNB\n",
        "gnb = GaussianNB()\n",
        "gnb.fit(X_train3, y_train3)\n",
        "\n",
        "# making predictions on the testing set\n",
        "y_pred3 = gnb.predict(X_test3)\n",
        "\n",
        "# comparing actual response values (y_test) with predicted response values (y_pred)\n",
        "from sklearn import metrics\n",
        "print(\"Gaussian Naive Bayes model accuracy(in %):\", metrics.accuracy_score(y_test3, y_pred3)*100)\n",
        "\n",
        "cm = pd.DataFrame(confusion_matrix(y_test3, y_pred3),\n",
        "                  columns=classes_names, index = classes_names)\n",
        "\n",
        "# Seaborn's heatmap to better visualize the confusion matrix\n",
        "sns.heatmap(cm, annot=True, fmt='d');"
      ]
    },
    {
      "cell_type": "code",
      "execution_count": null,
      "metadata": {
        "id": "JhUFqfbTMMfG"
      },
      "outputs": [],
      "source": [
        "print(\"Gaussian Naive Bayes model precision(in %):\", precision_score(y_test3, y_pred3)*100)"
      ]
    },
    {
      "cell_type": "code",
      "execution_count": null,
      "metadata": {
        "id": "bwFL1TZni-nV"
      },
      "outputs": [],
      "source": [
        "from sklearn.naive_bayes import BernoulliNB\n",
        "bnb = BernoulliNB()\n",
        "bnb.fit(X_train3, y_train3)\n",
        "\n",
        "# making predictions on the testing set\n",
        "y_pred4 = bnb.predict(X_test3)\n",
        "\n",
        "# comparing actual response values (y_test) with predicted response values (y_pred)\n",
        "from sklearn import metrics\n",
        "print(\"Bernoulli Naive Bayes model accuracy(in %):\", metrics.accuracy_score(y_test3, y_pred4)*100)\n",
        "\n",
        "\n",
        "cm = pd.DataFrame(confusion_matrix(y_test3, y_pred4),\n",
        "                  columns=classes_names, index = classes_names)\n",
        "\n",
        "# Seaborn's heatmap to better visualize the confusion matrix\n",
        "sns.heatmap(cm, annot=True, fmt='d');"
      ]
    },
    {
      "cell_type": "code",
      "execution_count": null,
      "metadata": {
        "id": "XBCnTRY3KExD"
      },
      "outputs": [],
      "source": [
        "print(\"Bernoulli Naive Bayes model precision(in %):\", precision_score(y_test3, y_pred4)*100)"
      ]
    }
  ],
  "metadata": {
    "colab": {
      "provenance": []
    },
    "kernelspec": {
      "display_name": "Python 3",
      "name": "python3"
    },
    "language_info": {
      "name": "python"
    }
  },
  "nbformat": 4,
  "nbformat_minor": 0
}