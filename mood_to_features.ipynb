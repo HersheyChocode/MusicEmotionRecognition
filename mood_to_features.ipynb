{
  "cells": [
    {
      "cell_type": "code",
      "execution_count": 2,
      "metadata": {
        "colab": {
          "base_uri": "https://localhost:8080/"
        },
        "id": "iHR8cXAaFozO",
        "outputId": "9e183fee-86ba-4be6-928e-84a0b9a897b1"
      },
      "outputs": [
        {
          "output_type": "stream",
          "name": "stdout",
          "text": [
            "Looking in indexes: https://pypi.org/simple, https://us-python.pkg.dev/colab-wheels/public/simple/\n",
            "Collecting spotipy\n",
            "  Downloading spotipy-2.23.0-py3-none-any.whl (29 kB)\n",
            "Collecting redis>=3.5.3 (from spotipy)\n",
            "  Downloading redis-4.5.5-py3-none-any.whl (240 kB)\n",
            "\u001b[2K     \u001b[90m━━━━━━━━━━━━━━━━━━━━━━━━━━━━━━━━━━━━━━━\u001b[0m \u001b[32m240.3/240.3 kB\u001b[0m \u001b[31m7.6 MB/s\u001b[0m eta \u001b[36m0:00:00\u001b[0m\n",
            "\u001b[?25hRequirement already satisfied: requests>=2.25.0 in /usr/local/lib/python3.10/dist-packages (from spotipy) (2.27.1)\n",
            "Requirement already satisfied: six>=1.15.0 in /usr/local/lib/python3.10/dist-packages (from spotipy) (1.16.0)\n",
            "Requirement already satisfied: urllib3>=1.26.0 in /usr/local/lib/python3.10/dist-packages (from spotipy) (1.26.15)\n",
            "Collecting async-timeout>=4.0.2 (from redis>=3.5.3->spotipy)\n",
            "  Downloading async_timeout-4.0.2-py3-none-any.whl (5.8 kB)\n",
            "Requirement already satisfied: certifi>=2017.4.17 in /usr/local/lib/python3.10/dist-packages (from requests>=2.25.0->spotipy) (2022.12.7)\n",
            "Requirement already satisfied: charset-normalizer~=2.0.0 in /usr/local/lib/python3.10/dist-packages (from requests>=2.25.0->spotipy) (2.0.12)\n",
            "Requirement already satisfied: idna<4,>=2.5 in /usr/local/lib/python3.10/dist-packages (from requests>=2.25.0->spotipy) (3.4)\n",
            "Installing collected packages: async-timeout, redis, spotipy\n",
            "Successfully installed async-timeout-4.0.2 redis-4.5.5 spotipy-2.23.0\n"
          ]
        }
      ],
      "source": [
        "!pip install spotipy"
      ]
    },
    {
      "cell_type": "code",
      "execution_count": 3,
      "metadata": {
        "id": "6zLJoB_N-CRN"
      },
      "outputs": [],
      "source": [
        "from IPython.display import Audio\n",
        "import pandas as pd\n",
        "import numpy as np\n",
        "import matplotlib.pyplot as plt\n",
        "import seaborn as sns\n",
        "\n",
        "#from kaggle_secrets import UserSecretsClient\n",
        "\n",
        "import spotipy\n",
        "from spotipy.oauth2 import SpotifyClientCredentials\n",
        "from spotipy import SpotifyException"
      ]
    },
    {
      "cell_type": "code",
      "execution_count": 4,
      "metadata": {
        "id": "4PtQuIqLHfQa"
      },
      "outputs": [],
      "source": [
        "#Authentication - without user\n",
        "cid = 'REDACTED'\n",
        "secret = 'REDACTED'\n",
        "client_credentials_manager = SpotifyClientCredentials(client_id=cid, client_secret=secret)\n",
        "sp = spotipy.Spotify(client_credentials_manager = client_credentials_manager)"
      ]
    },
    {
      "cell_type": "code",
      "execution_count": 6,
      "metadata": {
        "id": "fzQrKwUW-b-a"
      },
      "outputs": [],
      "source": [
        "df = pd.read_csv('muse_v3.csv').astype({'valence_tags': np.float32, 'arousal_tags':np.float32, 'dominance_tags':np.float32}) #muse dataset\n",
        "df['genre'].fillna('unknown', inplace=True)"
      ]
    },
    {
      "cell_type": "code",
      "execution_count": null,
      "metadata": {
        "id": "tKiGEgFPgMAy"
      },
      "outputs": [],
      "source": [
        "'''\n",
        "from sklearn.preprocessing import LabelEncoder\n",
        "\n",
        "le = LabelEncoder()\n",
        "le.fit(df['genre'].tolist())\n",
        "\n",
        "print(le.transform(df['genre'].tolist()))\n",
        "'''"
      ]
    },
    {
      "cell_type": "code",
      "execution_count": 7,
      "metadata": {
        "id": "_4h7NiFqIjvO"
      },
      "outputs": [],
      "source": [
        "data=df[df['spotify_id'].notnull()].copy() #making a separate dataframe with no null sptify id values"
      ]
    },
    {
      "cell_type": "code",
      "execution_count": 8,
      "metadata": {
        "colab": {
          "base_uri": "https://localhost:8080/"
        },
        "id": "-rl7u4AHIIF6",
        "outputId": "9c6f6cbe-9b68-431f-d58b-ab6788e77301"
      },
      "outputs": [
        {
          "output_type": "stream",
          "name": "stdout",
          "text": [
            "4xkOaSrkexMciUUogZKVTS\n",
            "(61630, 11) 61630\n",
            "lastfm_url                    0\n",
            "track                         0\n",
            "artist                        0\n",
            "seeds                         0\n",
            "number_of_emotion_tags        0\n",
            "valence_tags                  0\n",
            "arousal_tags                  0\n",
            "dominance_tags                0\n",
            "mbid                      11512\n",
            "spotify_id                    0\n",
            "genre                         0\n",
            "dtype: int64\n"
          ]
        }
      ],
      "source": [
        "sampleTrack = data.get('spotify_id')[0]\n",
        "print(sampleTrack)\n",
        "print(data.shape, len(data))\n",
        "print(np.sum(data.isnull()))\n",
        "data.head()\n",
        "\n",
        "sampleFeatures = sp.audio_features(sampleTrack)[0] #example feature extraction\n",
        "\n",
        "audioFeatures = sampleFeatures.keys() #adding the diff audio features as columns to the dataset\n",
        "for x in audioFeatures:\n",
        "  data[x] = ''"
      ]
    },
    {
      "cell_type": "code",
      "source": [
        "data.index = range(len(data))"
      ],
      "metadata": {
        "id": "GoALRIefOJV7"
      },
      "execution_count": 22,
      "outputs": []
    },
    {
      "cell_type": "code",
      "execution_count": null,
      "metadata": {
        "id": "7_dVUKrp1TqZ"
      },
      "outputs": [],
      "source": [
        "data.to_csv('out.csv')"
      ]
    },
    {
      "cell_type": "code",
      "source": [
        "sampleFeatures = sp.audio_features('1yEyejZUA7sLIVzmQsWK0J')[0]\n",
        "print(sampleFeatures)\n",
        "print(data['spotify_id'][53049])"
      ],
      "metadata": {
        "colab": {
          "base_uri": "https://localhost:8080/"
        },
        "id": "g5TgiJ-JWrai",
        "outputId": "890d2dda-5b46-4195-ebc3-87bcfac4effc"
      },
      "execution_count": 47,
      "outputs": [
        {
          "output_type": "stream",
          "name": "stdout",
          "text": [
            "{'danceability': 0.789, 'energy': 0.879, 'key': 0, 'loudness': -7.608, 'mode': 1, 'speechiness': 0.0373, 'acousticness': 0.0592, 'instrumentalness': 0.191, 'liveness': 0.524, 'valence': 0.632, 'tempo': 105.983, 'type': 'audio_features', 'id': '1yEyejZUA7sLIVzmQsWK0J', 'uri': 'spotify:track:1yEyejZUA7sLIVzmQsWK0J', 'track_href': 'https://api.spotify.com/v1/tracks/1yEyejZUA7sLIVzmQsWK0J', 'analysis_url': 'https://api.spotify.com/v1/audio-analysis/1yEyejZUA7sLIVzmQsWK0J', 'duration_ms': 223693, 'time_signature': 4}\n",
            "7hPNPJAnxam0kV0jpLrf3g\n"
          ]
        }
      ]
    },
    {
      "cell_type": "code",
      "source": [
        "for y in (audioFeatures):\n",
        "  print(y)"
      ],
      "metadata": {
        "colab": {
          "base_uri": "https://localhost:8080/"
        },
        "id": "Ej4vKvVGTX08",
        "outputId": "7730131e-f948-4420-8cf6-1ebe0138fff3"
      },
      "execution_count": null,
      "outputs": [
        {
          "output_type": "stream",
          "name": "stdout",
          "text": [
            "danceability\n",
            "energy\n",
            "key\n",
            "loudness\n",
            "mode\n",
            "speechiness\n",
            "acousticness\n",
            "instrumentalness\n",
            "liveness\n",
            "valence\n",
            "tempo\n",
            "type\n",
            "id\n",
            "uri\n",
            "track_href\n",
            "analysis_url\n",
            "duration_ms\n",
            "time_signature\n"
          ]
        }
      ]
    },
    {
      "cell_type": "code",
      "execution_count": null,
      "metadata": {
        "id": "dv9bBDUcLA4r"
      },
      "outputs": [],
      "source": [
        "for x in range(len(data)):\n",
        "  track = data.get('spotify_id')[x]\n",
        "  audioFeatures = sp.audio_features(track)[0]\n",
        "  print(data.loc[x])\n",
        "  for y in audioFeatures:\n",
        "    data.loc[x,[y]]=[audioFeatures[y]]"
      ]
    },
    {
      "cell_type": "code",
      "execution_count": null,
      "metadata": {
        "id": "6ftUg6MJk4hY"
      },
      "outputs": [],
      "source": [
        "data.to_csv('completeData.csv')"
      ]
    },
    {
      "cell_type": "code",
      "execution_count": 46,
      "metadata": {
        "colab": {
          "base_uri": "https://localhost:8080/"
        },
        "id": "3iQYNNu_Dp22",
        "outputId": "e94db918-5cbd-4449-c589-b2f7e01b23ca"
      },
      "outputs": [
        {
          "output_type": "stream",
          "name": "stdout",
          "text": [
            "9917\n"
          ]
        }
      ],
      "source": [
        "for resetNumber in range(len(data)):\n",
        "  if data.get('liveness')[resetNumber]==\"\":\n",
        "    print(resetNumber)\n",
        "    break\n",
        "\n",
        "#in the event that there is a 429 error in retrieving the spotify data,\n",
        "#this number is the last instance in the dataframe where the spotify information\n",
        "#was updated. reset the for loop range to go from range(resetNumber,len(data))"
      ]
    }
  ],
  "metadata": {
    "colab": {
      "provenance": []
    },
    "gpuClass": "standard",
    "kernelspec": {
      "display_name": "Python 3",
      "name": "python3"
    },
    "language_info": {
      "name": "python"
    }
  },
  "nbformat": 4,
  "nbformat_minor": 0
}